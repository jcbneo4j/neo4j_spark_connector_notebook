{
 "cells": [
  {
   "cell_type": "code",
   "execution_count": 2,
   "id": "a2d586cc-4b9a-4e4e-9712-b0ef560fea42",
   "metadata": {},
   "outputs": [],
   "source": [
    "import os\n",
    "from pyspark.sql.types import StructType, StructField, StringType, IntegerType, FloatType, DoubleType, DateType, TimestampType\n",
    "from pyspark import SparkConf, SparkContext\n",
    "from pyspark.sql import SparkSession\n",
    "from pyspark.conf import SparkConf\n",
    "from pyspark.sql import SparkSession"
   ]
  },
  {
   "cell_type": "markdown",
   "id": "7c1f1809-9772-4272-a7aa-890051a6e6b0",
   "metadata": {},
   "source": [
    "### Create config and load Neo4j Spark Connector jar"
   ]
  },
  {
   "cell_type": "code",
   "execution_count": 3,
   "id": "decbdfba-9c22-4e11-8a1b-3a4573aa5526",
   "metadata": {},
   "outputs": [],
   "source": [
    "neo4j_conf = {\n",
    "    \"user\":\"neo4j\",\n",
    "    \"password\":\"<password>\",\n",
    "    \"url\":\"bolt://localhost:7687\",\n",
    "    \"database\":\"testdb\",\n",
    "    \"batch_size\":5000\n",
    "}\n",
    "\n",
    "spark = SparkSession \\\n",
    "    .builder \\\n",
    "    .appName(\"testdb\") \\\n",
    "    .config(\"spark.jars\", \"/home/jovyan/work/neo4j-connector-apache-spark_2.12-4.1.2_for_spark_3.jar\") \\\n",
    "    .getOrCreate()\n",
    "\n"
   ]
  },
  {
   "cell_type": "markdown",
   "id": "98a3d467-4491-4214-b7f2-7912a3754d07",
   "metadata": {},
   "source": [
    "### Method to write to Neo4j"
   ]
  },
  {
   "cell_type": "code",
   "execution_count": 4,
   "id": "0a366659-ceb0-4867-9b1b-18d171a94194",
   "metadata": {},
   "outputs": [],
   "source": [
    "def ingest_to_neo4j(df, query):\n",
    "    \"\"\"\n",
    "    This function ingests a pyspark dataframe using the \"query\"\n",
    "    Params\n",
    "    df (pyspark.sql.DataFrame): data to ingest\n",
    "    query (string): defines the cypher query for ingestion\n",
    "    neo4j_conf (dict): neo4j configuration details\n",
    "    schema_script (string): defines the neo4j schema if any to create before\n",
    "        ingestion\n",
    "    repartition (bool): if set to true the dataframe will be repartitioned with \n",
    "        1 partition to avoid locking issues that can result from parallel \n",
    "        execution of cypher queries against neo4j. parallelism can be \n",
    "        introduced, but the data must be suitable for it. \n",
    "    \"\"\"\n",
    "        \n",
    "    # For the mode option, ErrorIfExists/Append will generate a CREATE query\n",
    "    # Overwite will generate a MERGE query\n",
    "    # this is not relevant here since we define a custom query\n",
    "    df.write.format(\"org.neo4j.spark.DataSource\")\\\n",
    "    .mode(\"Overwrite\")\\\n",
    "    .option(\"url\", neo4j_conf[\"url\"])\\\n",
    "    .option(\"database\", neo4j_conf[\"database\"])\\\n",
    "    .option(\"authentication.type\", \"basic\")\\\n",
    "    .option(\"authentication.basic.username\", neo4j_conf[\"user\"])\\\n",
    "    .option(\"authentication.basic.password\", neo4j_conf[\"password\"])\\\n",
    "    .option(\"batch.size\", neo4j_conf[\"batch_size\"])\\\n",
    "    .option(\"query\", query)\\\n",
    "    .save()"
   ]
  },
  {
   "cell_type": "markdown",
   "id": "5b642326-00cf-4af1-b113-0ad64d7c3378",
   "metadata": {},
   "source": [
    "### Create dataframes from parquet files"
   ]
  },
  {
   "cell_type": "code",
   "execution_count": 14,
   "id": "98758d79-b650-4f44-8602-a008e4dc9ba5",
   "metadata": {},
   "outputs": [],
   "source": [
    "parquet_df = spark.read.option(\"inferSchema\", True, )\\\n",
    "    .parquet(\"./parquet/\")\n",
    "#parquet_df.show()"
   ]
  },
  {
   "cell_type": "markdown",
   "id": "d070ccad-76da-41a2-a2c3-496deb26cc55",
   "metadata": {},
   "source": [
    "### Create queries and pass to method to write data with dataframe"
   ]
  },
  {
   "cell_type": "markdown",
   "id": "b53e34e7-acf5-4c7f-bcef-8132e614ca21",
   "metadata": {},
   "source": [
    "#### Create nodes"
   ]
  },
  {
   "cell_type": "code",
   "execution_count": 7,
   "id": "53f07216-6d49-411f-8c67-ba8b41cbe727",
   "metadata": {},
   "outputs": [],
   "source": [
    "customer_query = \"\"\"\n",
    "WITH event.Customer_ID AS customer_id,\n",
    "event.Credit_Score AS credit_score,\n",
    "event.Loan_ID AS loan_number\n",
    "\n",
    "MERGE (m:Customer {id: customer_id}) \n",
    "SET \n",
    "    m.creditScore = credit_score,\n",
    "    m.loanNumber = loan_number\n",
    "\"\"\""
   ]
  },
  {
   "cell_type": "code",
   "execution_count": 8,
   "id": "ce126647-be99-4006-bb14-0c67a09409f2",
   "metadata": {},
   "outputs": [],
   "source": [
    "ingest_to_neo4j(parquet_df, customer_query)"
   ]
  },
  {
   "cell_type": "code",
   "execution_count": 9,
   "id": "5fd6b4aa-e2b2-433a-9304-e9d46d72cd6e",
   "metadata": {},
   "outputs": [],
   "source": [
    "loan_query = \"\"\"\n",
    "WITH event.Loan_ID AS loan_number,\n",
    "event.Loan_Amount AS loan_amount\n",
    "\n",
    "MERGE (m:Loan {loan_number: loan_number}) \n",
    "SET \n",
    "    m.loan_amount = loan_amount\n",
    "\"\"\""
   ]
  },
  {
   "cell_type": "code",
   "execution_count": 10,
   "id": "dfb89426-454c-45f6-a1a5-3567f51e445c",
   "metadata": {},
   "outputs": [],
   "source": [
    "ingest_to_neo4j(parquet_df, loan_query)"
   ]
  },
  {
   "cell_type": "markdown",
   "id": "7c0034e9-16e4-4f48-95f8-ab29fd1f4150",
   "metadata": {},
   "source": [
    "#### Build relationships between nodes"
   ]
  },
  {
   "cell_type": "code",
   "execution_count": 11,
   "id": "e533b06e-0b43-4253-b6fc-3313fdbe413b",
   "metadata": {},
   "outputs": [],
   "source": [
    "customer_to_loan_query = \"\"\"\n",
    "WITH event.Customer_ID AS customer_id,\n",
    "event.Loan_ID AS loan_number\n",
    "\n",
    "MATCH (c:Customer {id: customer_id})\n",
    "MATCH (l:Loan {loan_number: loan_number}) \n",
    "MERGE (c)-[:HAS_LOAN]->(l)\n",
    "\"\"\""
   ]
  },
  {
   "cell_type": "code",
   "execution_count": 13,
   "id": "210b91cf-b89b-4502-a32c-79846dafb6d0",
   "metadata": {},
   "outputs": [],
   "source": [
    "ingest_to_neo4j(parquet_df, customer_to_loan_query)"
   ]
  },
  {
   "cell_type": "code",
   "execution_count": null,
   "id": "43350d77-bed9-448c-9b9d-9876f8b89ca8",
   "metadata": {},
   "outputs": [],
   "source": []
  }
 ],
 "metadata": {
  "kernelspec": {
   "display_name": "Python 3 (ipykernel)",
   "language": "python",
   "name": "python3"
  },
  "language_info": {
   "codemirror_mode": {
    "name": "ipython",
    "version": 3
   },
   "file_extension": ".py",
   "mimetype": "text/x-python",
   "name": "python",
   "nbconvert_exporter": "python",
   "pygments_lexer": "ipython3",
   "version": "3.10.8"
  }
 },
 "nbformat": 4,
 "nbformat_minor": 5
}
